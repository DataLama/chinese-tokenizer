{
 "cells": [
  {
   "cell_type": "code",
   "execution_count": 1,
   "metadata": {},
   "outputs": [
    {
     "name": "stdout",
     "output_type": "stream",
     "text": [
      "+---------------------------------------------------------------------+\n",
      "  Welcome to MONPA: Multi-Objective NER POS Annotator for Chinese\n",
      "+---------------------------------------------------------------------+\n",
      "已找到 model檔。Found model file.\n"
     ]
    }
   ],
   "source": [
    "import re\n",
    "import monpa\n",
    "import jiagu\n",
    "import hanlp\n",
    "from pkuseg import pkuseg\n",
    "from LAC import LAC\n",
    "from thulac import thulac"
   ]
  },
  {
   "cell_type": "code",
   "execution_count": 2,
   "metadata": {},
   "outputs": [
    {
     "name": "stdout",
     "output_type": "stream",
     "text": [
      "Model loaded succeed\n"
     ]
    }
   ],
   "source": [
    "## load chinese word segementations\n",
    "pku = pkuseg()\n",
    "lac = LAC(mode='seg')\n",
    "thu = thulac(seg_only=True)\n",
    "hnp = hanlp.load('LARGE_ALBERT_BASE')"
   ]
  },
  {
   "cell_type": "code",
   "execution_count": 3,
   "metadata": {},
   "outputs": [],
   "source": [
    "def cws(sent):\n",
    "    print('[*] 원문')\n",
    "    print(f'    {sent}')\n",
    "    print('[*] pkuseg 결과')\n",
    "    print(f'    {pku.cut(sent)}')\n",
    "    print('[*] LAC 결과')\n",
    "    print(f'    {lac.run(sent)}')\n",
    "    print('[*] thulac 결과')\n",
    "    print(f'    {list(list(zip(*thu.cut(sent)))[0])}')\n",
    "    print('[*] monpa 결과')\n",
    "    print(f'    {monpa.cut(sent)}')\n",
    "    print('[*] jiagu 결과')\n",
    "    print(f'    {jiagu.seg(sent)}')\n",
    "    print('[*] hanlp 결과')\n",
    "    print(f'    {hnp(sent)}')\n",
    "    return\n",
    "    "
   ]
  },
  {
   "cell_type": "markdown",
   "metadata": {},
   "source": [
    "---"
   ]
  },
  {
   "cell_type": "markdown",
   "metadata": {},
   "source": [
    "### 토크나이저 비교\n",
    "다양한 테스트 케이스 돌리면서 이건 못 써먹겠다 싶은 애들을 골라주세요."
   ]
  },
  {
   "cell_type": "code",
   "execution_count": 7,
   "metadata": {},
   "outputs": [
    {
     "name": "stdout",
     "output_type": "stream",
     "text": [
      "[*] 원문\n",
      "    ［ESTEE LAUDER ] 粉嫩慾望系列 這系列太美，尤其唇霜在韓國銷售量很好👏🏻👏🏻👏🏻 - ．粉嫩慾望蜜糖嫩唇霜 12g 細緻蜜糖微晶體有效溫和去除唇部乾燥脫屑處，同時添加保濕複合物，去除老廢角質同時達到提亮潤澤效果\n",
      "[*] pkuseg 결과\n",
      "    ['［', 'ESTEE', 'LAUDER', ']', '粉嫩', '慾望', '系列', '這', '系列', '太美', '，', '尤其', '唇霜', '在', '韓國', '銷售量', '很', '好', '👏🏻', '👏🏻', '👏🏻', '-', '．', '粉嫩', '慾望', '蜜糖', '嫩唇霜', '12', 'g', '細緻', '蜜糖', '微晶體', '有效', '溫', '和', '去除', '唇部', '乾燥', '脫屑', '處', '，', '同時', '添加', '保濕', '複合物', '，', '去除', '老廢角', '質同', '時達', '到', '提亮', '潤澤', '效果']\n",
      "[*] LAC 결과\n",
      "    ['［', 'ESTEE', ' ', 'LAUDER', ' ', ']', ' ', '粉嫩', '慾望', '系列', ' ', '這', '系列', '太', '美', '，', '尤其', '唇霜', '在', '韓國', '銷售量', '很好', '👏🏻👏🏻👏🏻', ' ', '-', ' ', '．', '粉嫩', '慾望', '蜜糖', '嫩', '唇霜', ' ', '12g', ' ', '細緻', '蜜糖', '微晶體', '有效', '溫和', '去除', '唇部', '乾燥', '脫', '屑', '處', '，', '同時', '添加', '保濕', '複合物', '，', '去除', '老', '廢', '角質', '同時', '達到', '提', '亮潤澤', '效果']\n",
      "[*] thulac 결과\n",
      "    ['［ESTEE', ' ', 'LAUDER', ' ', ']', ' ', '粉嫩', '慾望', '系列', ' ', '這', '系列', '太', '美', '，', '尤其', '唇霜', '在', '韓國', '銷售量', '很', '好', '👏🏻', '👏🏻', '👏🏻', ' ', '-', ' ', '．粉嫩', '慾望', '蜜糖', '嫩唇霜', ' ', '12', 'g', ' ', '細緻', '蜜糖', '微晶體', '有效溫', '和', '去除', '唇部', '乾燥', '脫屑處', '，', '同時', '添加', '保濕', '複合物', '，', '去除', '老廢', '角質', '同', '時達', '到', '提亮', '潤澤', '效果']\n",
      "[*] monpa 결과\n",
      "    ['［', 'ESTEE LAUDER', ' ', ']', ' ', '粉嫩', '慾望', '系列', ' ', '這', '系列', '太', '美', '，', '尤其', '唇', '霜', '在', '韓國', '銷售量', '很', '好', '👏', '🏻', '👏', '🏻', '👏', '🏻', ' ', '-', ' ', '．', '粉嫩', '慾望', '蜜糖', '嫩', '唇', '霜', ' ', '12', 'g', ' ', '細緻', '蜜糖', '微', '晶體', '有效', '溫和', '去', '除', '唇部', '乾燥', '脫屑處', '，', '同時', '添加', '保濕', '複合物', '，', '去除', '老廢', '角質', '同時', '達到', '提亮', '潤澤', '效果']\n",
      "[*] jiagu 결과\n",
      "    ['［', 'ESTEE', ' ', 'LAUDER', ' ', ']', ' ', '粉嫩', '慾', '望', '系列', ' ', '這', '系列', '太美', '，', '尤其', '唇', '霜', '在', '韓', '國', '銷', '售', '量', '很好', '👏', '🏻', '👏', '🏻', '👏', '🏻', ' ', '-', ' ', '．', '粉嫩', '慾', '望', '蜜糖', '嫩', '唇', '霜', ' ', '12g', ' ', '細', '緻', '蜜糖', '微晶', '體', '有效', '溫', '和', '去除', '唇部', '乾', '燥', '脫', '屑', '處', '，', '同', '時', '添加', '保', '濕', '複', '合', '物', '，', '去除', '老', '廢', '角', '質', '同', '時', '達', '到', '提', '亮', '潤', '澤', '效果']\n",
      "[*] hanlp 결과\n",
      "    ['［', 'ESTEE', ' ', 'LAUDER', ' ', ']', ' ', '粉嫩', '慾望', '系列', ' ', '這', '系列', '太', '美', '，', '尤其', '唇霜', '在', '韓國', '銷售量', '很', '好', '👏', '🏻', '👏', '🏻', '👏', '🏻', ' ', '-', ' ', '．', '粉嫩', '慾望', '蜜糖', '嫩', '唇霜', ' ', '12g', ' ', '細緻', '蜜糖', '微晶體', '有效', '溫和', '去除', '唇部', '乾燥', '脫屑', '處', '，', '同時', '添加', '保濕', '複合物', '，', '去除', '老廢', '角質', '同時', '達到', '提亮', '潤澤', '效果']\n"
     ]
    }
   ],
   "source": [
    "# test_case = input()\n",
    "test_case.split('。')\n",
    "cws(test_case.split('。')[0])"
   ]
  }
 ],
 "metadata": {
  "kernelspec": {
   "display_name": "Python 3",
   "language": "python",
   "name": "python3"
  },
  "language_info": {
   "codemirror_mode": {
    "name": "ipython",
    "version": 3
   },
   "file_extension": ".py",
   "mimetype": "text/x-python",
   "name": "python",
   "nbconvert_exporter": "python",
   "pygments_lexer": "ipython3",
   "version": "3.7.5"
  }
 },
 "nbformat": 4,
 "nbformat_minor": 4
}
