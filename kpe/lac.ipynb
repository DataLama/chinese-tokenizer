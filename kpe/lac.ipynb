{
 "cells": [
  {
   "cell_type": "markdown",
   "metadata": {},
   "source": [
    "# LAC\n",
    "The full name of LAC is **Lexical Analysis of Chinese**. It is a joint lexical analysis tool developed by Baidu's Natural Language Processing Department to realize Chinese word segmentation, part-of-speech tagging, proper name recognition and other functions. "
   ]
  },
  {
   "cell_type": "markdown",
   "metadata": {},
   "source": [
    "## Customize tokenizer\n",
    "- line 단위로 사전이 적용됨.\n",
    "- `/` 뒤의 단어는 label을 의미함. `/`이 없으면 기본 품사가 적용됨. (n)\n",
    "- token이 사전 내의 item과 매칭이 되면, 사전에 정의된 pos로 대치됨.\n",
    "- multiple words로 구성된 long fragment에 대한 매칭을 할 수 있음."
   ]
  },
  {
   "cell_type": "code",
   "execution_count": 1,
   "metadata": {},
   "outputs": [],
   "source": [
    "from LAC import LAC\n",
    "# load lac\n",
    "lac = LAC(mode='lac', use_cuda=False)\n",
    "# load custom dict\n",
    "lac.load_customization('sample/custom_dict.txt', sep=None)"
   ]
  },
  {
   "cell_type": "code",
   "execution_count": 2,
   "metadata": {},
   "outputs": [
    {
     "data": {
      "text/plain": [
       "[['春天', '的', '花', '开', '秋天的风', '以及', '冬天', '的', '落', '阳'],\n",
       " ['SEASON', 'u', 'n', 'v', 'n', 'c', 'TIME', 'u', '이건', '한글']]"
      ]
     },
     "execution_count": 2,
     "metadata": {},
     "output_type": "execute_result"
    }
   ],
   "source": [
    "lac.run(u\"春天的花开秋天的风以及冬天的落阳\")"
   ]
  },
  {
   "cell_type": "markdown",
   "metadata": {},
   "source": [
    "## Train model\n",
    "- lac의 label듦만 학습에 활용가능함.\n",
    "- train.txt test.txt는 아래와 같은 형태로 구성.\n",
    "- model train은 paddle paddle을 사용하여 학습함.\n",
    "\n",
    "```text\n",
    "LAC/nz 是/v 个/q 优秀/a 的/u 分词/n 工具/n 。/w\n",
    "百度/ORG 是/v 一家/m 高科技/n 公司/n 。/w\n",
    "春天/TIME 的/u 花开/v 秋天/TIME 的/u 风/n 以及/c 冬天/TIME 的/u 落阳/n 。/w\n",
    "```\n"
   ]
  },
  {
   "cell_type": "code",
   "execution_count": 3,
   "metadata": {},
   "outputs": [
    {
     "name": "stderr",
     "output_type": "stream",
     "text": [
      "2020-09-16 19:35:29,454-INFO: Start Training!\n"
     ]
    },
    {
     "name": "stdout",
     "output_type": "stream",
     "text": [
      "Load pretraining parameters from /usr/local/lib/python3.7/dist-packages/LAC/lac_model/model.\n",
      "[test] P: 0.75000, R: 0.96000, F1: 0.84211\n"
     ]
    },
    {
     "name": "stderr",
     "output_type": "stream",
     "text": [
      "2020-09-16 19:35:30,419-INFO: Finish Training!\n"
     ]
    },
    {
     "name": "stdout",
     "output_type": "stream",
     "text": [
      "[test] P: 0.78125, R: 1.00000, F1: 0.87719\n"
     ]
    }
   ],
   "source": [
    "lac.train(model_save_dir='/tmp/test', train_data='sample/train.txt', test_data='sample/test.txt')"
   ]
  },
  {
   "cell_type": "markdown",
   "metadata": {},
   "source": [
    "- custom model load"
   ]
  },
  {
   "cell_type": "code",
   "execution_count": 4,
   "metadata": {},
   "outputs": [],
   "source": [
    "my_lac = LAC(model_path='/tmp/test')"
   ]
  }
 ],
 "metadata": {
  "kernelspec": {
   "display_name": "Python 3",
   "language": "python",
   "name": "python3"
  },
  "language_info": {
   "codemirror_mode": {
    "name": "ipython",
    "version": 3
   },
   "file_extension": ".py",
   "mimetype": "text/x-python",
   "name": "python",
   "nbconvert_exporter": "python",
   "pygments_lexer": "ipython3",
   "version": "3.7.5"
  }
 },
 "nbformat": 4,
 "nbformat_minor": 4
}
