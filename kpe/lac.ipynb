{
 "cells": [
  {
   "cell_type": "markdown",
   "metadata": {},
   "source": [
    "# LAC\n",
    "The full name of LAC is **Lexical Analysis of Chinese**. It is a joint lexical analysis tool developed by Baidu's Natural Language Processing Department to realize Chinese word segmentation, part-of-speech tagging, proper name recognition and other functions. "
   ]
  },
  {
   "cell_type": "markdown",
   "metadata": {},
   "source": [
    "## Customizable\n",
    "\n",
    "\n",
    "- When the model predicts that it matches the item in the dictionary, it will replace the original result with the customized result.\n",
    "-  In order to achieve a more accurate match, we support a long fragment composed of multiple words as an item."
   ]
  },
  {
   "cell_type": "markdown",
   "metadata": {},
   "source": [
    "## Customizable"
   ]
  },
  {
   "cell_type": "markdown",
   "metadata": {},
   "source": [
    "We implement this function by loading a dictionary file. Each line of the dictionary file represents a customized item, which is composed of one word or multiple consecutive words. After each word, use'/' to indicate a label, if there is no'/' label The default label of the model will be used. The more words in each item, the more accurate the intervention effect will be.\n",
    "\n",
    "Example dictionary file\n",
    "\n",
    "This is just an example to show the results under various demand situations. The mode of configuring dictionaries with wildcards will be opened in the future, so stay tuned.\n",
    "\n"
   ]
  },
  {
   "cell_type": "code",
   "execution_count": 1,
   "metadata": {},
   "outputs": [],
   "source": [
    "from LAC import LAC"
   ]
  },
  {
   "cell_type": "code",
   "execution_count": 2,
   "metadata": {},
   "outputs": [],
   "source": [
    "lac = LAC(mode='lac', use_cuda=False)"
   ]
  },
  {
   "cell_type": "code",
   "execution_count": 3,
   "metadata": {},
   "outputs": [],
   "source": [
    "lac.load_customization('custom_dict.txt', sep=None)"
   ]
  },
  {
   "cell_type": "code",
   "execution_count": 4,
   "metadata": {},
   "outputs": [
    {
     "data": {
      "text/plain": [
       "[['春天', '的', '花', '开', '秋天的风', '以及', '冬天', '的', '落', '阳'],\n",
       " ['SEASON', 'u', 'n', 'v', 'n', 'c', 'TIME', 'u', 'c', 'c']]"
      ]
     },
     "execution_count": 4,
     "metadata": {},
     "output_type": "execute_result"
    }
   ],
   "source": [
    "lac.run(u\"春天的花开秋天的风以及冬天的落阳\")"
   ]
  },
  {
   "cell_type": "code",
   "execution_count": null,
   "metadata": {},
   "outputs": [],
   "source": []
  },
  {
   "cell_type": "code",
   "execution_count": null,
   "metadata": {},
   "outputs": [],
   "source": [
    "\n",
    "\n",
    "\n",
    "# 装载干预词典, sep参数表示词典文件采用的分隔符，为None时默认使用空格或制表符'\\t'\n",
    "lac.load_customization('custom.txt', sep=None)"
   ]
  }
 ],
 "metadata": {
  "kernelspec": {
   "display_name": "Python 3",
   "language": "python",
   "name": "python3"
  },
  "language_info": {
   "codemirror_mode": {
    "name": "ipython",
    "version": 3
   },
   "file_extension": ".py",
   "mimetype": "text/x-python",
   "name": "python",
   "nbconvert_exporter": "python",
   "pygments_lexer": "ipython3",
   "version": "3.7.5"
  }
 },
 "nbformat": 4,
 "nbformat_minor": 4
}
